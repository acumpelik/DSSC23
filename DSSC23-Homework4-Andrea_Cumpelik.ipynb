{
 "cells": [
  {
   "cell_type": "markdown",
   "id": "7b0556ea-ef67-40a3-9443-b11b240aef71",
   "metadata": {},
   "source": [
    "# Homework 4"
   ]
  },
  {
   "cell_type": "markdown",
   "id": "3ec70ac4-afac-4c76-ad94-5c2149dd71c0",
   "metadata": {},
   "source": [
    "Use your detection of spikes on background-subtracted trace1 data from previous homework to define a new vector z, of the same length as trace1, which only contains zeros or ones: ones should indicate downward threshold voltage crossings in trace1, with threshold you selected for spike detection, and other time bins should be zero; in other words, z should have a one whenever a spike occurred in the original voltage trace; P t zt should be the total number of detected spikes in trace1. Note: z should only indicate threshold crossings, i.e., cases where voltage was above the threshold in the previous timebin and is below the threshold in the next timebin. Let’s now do the following: (i) take many contiguous chunks of z of length 500, 750, 1000, 2500, 5000,..., 100000 time bins, and on each chunk estimate the “spike rate”, as the number of spikes in that chunk divided by the length of that chunk; (ii) estimate the error in the spike rate by computing the SD over chunks of the same length, as in the classic bootstrap; (iii) plot this error as a function of the chunk length, on the semilogx plot. Does the error bar decrease with the chunk length as you would expect? (iv) To get a better intuition, compare this plot of spike rate error bar vs chunk length for the vector z whose elements you first randomly permuted to break all temporal correlations. Check that in this permuted control, the spike rate error bar decrease as (chunk length) 1/2. If you see a deviation from that behavior of the spike rate error bar for the original z, what could be the source of such deviations?"
   ]
  },
  {
   "cell_type": "code",
   "execution_count": null,
   "id": "5cdd9a23-668e-45ee-9238-269a79996520",
   "metadata": {},
   "outputs": [],
   "source": []
  },
  {
   "cell_type": "code",
   "execution_count": null,
   "id": "260f6a63-dbba-448e-8ed2-5b483693449f",
   "metadata": {},
   "outputs": [],
   "source": []
  },
  {
   "cell_type": "code",
   "execution_count": null,
   "id": "9daaa442-64b5-45fa-bbb6-f1c377f501a5",
   "metadata": {},
   "outputs": [],
   "source": []
  }
 ],
 "metadata": {
  "kernelspec": {
   "display_name": "Python 3 (ipykernel)",
   "language": "python",
   "name": "python3"
  },
  "language_info": {
   "codemirror_mode": {
    "name": "ipython",
    "version": 3
   },
   "file_extension": ".py",
   "mimetype": "text/x-python",
   "name": "python",
   "nbconvert_exporter": "python",
   "pygments_lexer": "ipython3",
   "version": "3.9.16"
  }
 },
 "nbformat": 4,
 "nbformat_minor": 5
}
