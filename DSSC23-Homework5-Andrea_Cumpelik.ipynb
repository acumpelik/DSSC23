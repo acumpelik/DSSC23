{
 "cells": [
  {
   "cell_type": "markdown",
   "id": "04aad68d-7274-497a-9e36-e4614ecf8d23",
   "metadata": {},
   "source": [
    "# Homework 5"
   ]
  },
  {
   "cell_type": "markdown",
   "id": "1c925cfe-4f0a-4c9a-92bd-82b484418612",
   "metadata": {},
   "source": [
    "Estimate the distribution of log luminance levels in the Ruderman natural image dataset. For each image, transform it by taking the log\n",
    "of the pixel luminance values, and subtracting the mean value of log luminance across each image. Show the estimate of the error bars on this distribution of mean-subtracted log-luminances, y, by thinking about what “independent samples” are in this dataset (you do not need to do a full bootstrap analysis). Show that the left- and right- tails of this distribution are approximately exponential, i.e., P + (y) / exp( μ + |y|) and P (y) / exp( μ |y|), where P ± stand for the positive (or, respectively, the negative) tails of the log-luminance distribution. Do this by finding the two best-fitting constants, μ + and μ and plotting the tails on top of the normalized distribution for y. A good choice to define the positive and negative tails is to use the threshold of |y| > 1. How you do the fitting (linear regression in log-luminance space, 2 fitting of raw histograms) is up to you, but explain clearly what you did."
   ]
  },
  {
   "cell_type": "code",
   "execution_count": null,
   "id": "4e114c90-f6ec-4a66-b71f-87be727cf729",
   "metadata": {},
   "outputs": [],
   "source": []
  },
  {
   "cell_type": "markdown",
   "id": "e62e23cb-6a5e-446d-9798-f02cd383ce90",
   "metadata": {},
   "source": [
    "estimate the pdf on each image: error is std on ??.\n",
    "same binning is crucial!"
   ]
  }
 ],
 "metadata": {
  "kernelspec": {
   "display_name": "Python 3 (ipykernel)",
   "language": "python",
   "name": "python3"
  },
  "language_info": {
   "codemirror_mode": {
    "name": "ipython",
    "version": 3
   },
   "file_extension": ".py",
   "mimetype": "text/x-python",
   "name": "python",
   "nbconvert_exporter": "python",
   "pygments_lexer": "ipython3",
   "version": "3.9.16"
  }
 },
 "nbformat": 4,
 "nbformat_minor": 5
}
