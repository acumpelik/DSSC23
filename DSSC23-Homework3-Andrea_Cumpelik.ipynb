{
 "cells": [
  {
   "cell_type": "markdown",
   "id": "43f9b784-7400-48a6-b237-a2f5e25f6e3a",
   "metadata": {},
   "source": [
    "Try three different bootstrapping methods for estimating the\n",
    "error bar on a statistic for a synthetic data that is IID by construction. For your\n",
    "data set, draw a hundred samples from a normal distribution with zero mean and\n",
    "unit variance. On this dataset, estimate the standard deviation (ground truth\n",
    "value of which is unity), and its error bar. In the first method for error bar\n",
    "estimation, do bootstrapping by selecting random halves of the data (e.g., 1000\n",
    "random splits). In the second method, do bootstrapping by resampling (e.g.,\n",
    "1000 times) with replacement from the full dataset. In the third method, apply\n",
    "the Jackknife estimate. Compare the obtained error bar estimates."
   ]
  },
  {
   "cell_type": "code",
   "execution_count": 1,
   "id": "2fedf82c-4367-43a8-b229-cf3e48070793",
   "metadata": {},
   "outputs": [],
   "source": [
    "import numpy as np\n",
    "import matplotlib.pyplot as plt\n",
    "import random"
   ]
  },
  {
   "cell_type": "markdown",
   "id": "e3aa78f8-b668-4f22-acd9-745ba5a76c20",
   "metadata": {
    "tags": []
   },
   "source": [
    "# 1) Generate the data\n",
    "For your\n",
    "data set, draw a hundred samples from a normal distribution with zero mean and\n",
    "unit variance."
   ]
  },
  {
   "cell_type": "markdown",
   "id": "742c9e81-2a85-41d1-b053-e29c2bebaaa6",
   "metadata": {
    "jp-MarkdownHeadingCollapsed": true,
    "tags": []
   },
   "source": [
    "## Own Gaussian implementation"
   ]
  },
  {
   "cell_type": "code",
   "execution_count": null,
   "id": "6c09f6b2-b3f1-4c6d-8bb9-f7fde2835ca2",
   "metadata": {},
   "outputs": [],
   "source": [
    "N = 1000\n",
    "mu  = 0\n",
    "sigma = 1\n",
    "xrange = [-5,5]\n",
    "x = np.linspace(xrange[0]*sigma,xrange[1]*sigma,N) # draw from a uniform distribution\n",
    "\n",
    "def gaussian(x, mu, sigma):\n",
    "    \"\"\"\n",
    "    Parameters\n",
    "    ----------\n",
    "    x: an array of points at which to evaluate the Gaussian function\n",
    "    mu : mean\n",
    "    sigma : standard deviation\n",
    "\n",
    "    Returns\n",
    "    -------\n",
    "    p : probability\n",
    "    \"\"\"\n",
    "    p = np.zeros(N)\n",
    "    p = (1/np.sqrt(2*np.pi*sigma**2)) * np.e**(-(1/2)*(x-mu)**2 / sigma**2)\n",
    "    return p"
   ]
  },
  {
   "cell_type": "code",
   "execution_count": null,
   "id": "4bae06c8-bf50-4fdc-b85e-d15094d6ccf6",
   "metadata": {},
   "outputs": [],
   "source": [
    "p = gaussian(x, 0,1)"
   ]
  },
  {
   "cell_type": "code",
   "execution_count": null,
   "id": "713c5e83-62e5-4203-a909-9d3d53372fc9",
   "metadata": {},
   "outputs": [],
   "source": [
    "plt.plot(x,p)\n",
    "plt.show()"
   ]
  },
  {
   "cell_type": "code",
   "execution_count": null,
   "id": "d3ac1ff8-8bab-4c25-b648-0adfcf7ac389",
   "metadata": {},
   "outputs": [],
   "source": [
    "plt.hist(p, bins=10)\n",
    "plt.show()"
   ]
  },
  {
   "cell_type": "code",
   "execution_count": null,
   "id": "e8dd07ed-bd75-410d-bde7-9a1a89ed41f4",
   "metadata": {},
   "outputs": [],
   "source": [
    "n = gaussian(0,0,1)"
   ]
  },
  {
   "cell_type": "code",
   "execution_count": null,
   "id": "96e4948d-5f2b-4d23-a4cc-ad7dc4924f76",
   "metadata": {},
   "outputs": [],
   "source": [
    "n"
   ]
  },
  {
   "cell_type": "markdown",
   "id": "374aac02-f082-44eb-a460-255921eb30ec",
   "metadata": {},
   "source": [
    "## NumPy libraries"
   ]
  },
  {
   "cell_type": "code",
   "execution_count": 32,
   "id": "fc0aef91-b2e8-44eb-bdf5-d518c69a26e4",
   "metadata": {},
   "outputs": [
    {
     "data": {
      "image/png": "[encoded data removed]",
      "text/plain": [
       "<Figure size 640x480 with 1 Axes>"
      ]
     },
     "metadata": {},
     "output_type": "display_data"
    }
   ],
   "source": [
    "# Generate some data, set a fixed seed\n",
    "rng = np.random.default_rng(seed=64)\n",
    "data = rng.normal(loc=0, scale=1, size=100)\n",
    "\n",
    "# Plot the data on a histogram\n",
    "numbins=20\n",
    "bins = np.linspace(data.min(), data.max(), numbins)\n",
    "counts, _ = np.histogram(data, bins=bins, density=False)\n",
    "\n",
    "plt.hist(data, bins=bins)\n",
    "plt.xlim(-3.5,3.5)\n",
    "plt.title('100 samples drawn from a normal distribution')\n",
    "plt.show()"
   ]
  },
  {
   "cell_type": "markdown",
   "id": "0c7a59b3-5528-49ae-90dc-46e950ebfb89",
   "metadata": {},
   "source": [
    "# 2) Estimate the standard deviation and its error bar\n",
    "On this dataset, estimate the standard deviation (ground truth\n",
    "value of which is unity), and its error bar.\n",
    "## a) In the first method for error bar estimation, do bootstrapping by selecting random halves of the data (e.g., 1000 random splits)."
   ]
  },
  {
   "cell_type": "markdown",
   "id": "324d56e1-0fef-491e-8870-38be8802528a",
   "metadata": {},
   "source": [
    "### Take random subsets"
   ]
  },
  {
   "cell_type": "code",
   "execution_count": 3,
   "id": "db421cbe-a7ad-451e-8298-8e7168696efd",
   "metadata": {},
   "outputs": [],
   "source": [
    "subsetSize = int(len(data)/2)\n",
    "permutations = 1000\n",
    "\n",
    "def bootstrap_random_halves(data, subsetSize, permutations):\n",
    "    '''\n",
    "    Splits the data  into random halves (not preserving continuity, assuming IID).\n",
    "    Input: data = 1D array, subsetSize = size of the random subset, permutations = number of samples to draw.\n",
    "    Output: bootstrapped subsets (random halves).\n",
    "    '''\n",
    "    subsets = np.zeros((permutations, subsetSize))\n",
    "    for run in range(permutations):\n",
    "        # randomly select half the data points (k = length of subset) and store in an array where the rows are subsets and the columns are runs\n",
    "        subsets[run,:] = random.choices(data, k=subsetSize)\n",
    "    return subsets"
   ]
  },
  {
   "cell_type": "code",
   "execution_count": 48,
   "id": "1eaa4f45-ec81-48e1-bbb1-b6feec8e21bd",
   "metadata": {},
   "outputs": [],
   "source": [
    "subsets1 = bootstrap_random_halves(data, subsetSize, permutations)"
   ]
  },
  {
   "cell_type": "code",
   "execution_count": 34,
   "id": "3279f649-5f77-4a8e-9833-990ad3cf0fd7",
   "metadata": {},
   "outputs": [
    {
     "data": {
      "image/png": "[encoded data removed]",
      "text/plain": [
       "<Figure size 640x480 with 1 Axes>"
      ]
     },
     "metadata": {},
     "output_type": "display_data"
    }
   ],
   "source": [
    "# Plot one subset\n",
    "plt.hist(subsets1[0], bins[:-1])\n",
    "plt.title('Example boostrapped subset (random halves)')\n",
    "plt.xlim(-3.5,3.5)\n",
    "plt.show()"
   ]
  },
  {
   "cell_type": "markdown",
   "id": "5a010d7c-1047-4a0a-b6f6-cb69fb281994",
   "metadata": {
    "tags": []
   },
   "source": [
    "### Bin the data"
   ]
  },
  {
   "cell_type": "code",
   "execution_count": 5,
   "id": "44fe5da9-be54-4cd4-92c1-dcf530109453",
   "metadata": {},
   "outputs": [],
   "source": [
    "def bin_subsets(bootstrapped_subsets, bins):\n",
    "    '''\n",
    "    Takes an array of n bootstrapped subsets of m elements and bins using the np histogram function.\n",
    "    Input: an mxn array of subsets, a list of b bin edges\n",
    "    Output: a bxn array of bins x counts\n",
    "    '''\n",
    "    # Define the size of the output array\n",
    "    numbins=int(bins.size)-1\n",
    "    repetitions = bootstrapped_subsets.shape[0]\n",
    "    binned_subsets = np.zeros((repetitions, numbins))\n",
    "    \n",
    "    # Find dist = bin the data according to our predefined bins and return counts per bins\n",
    "    for run in range(repetitions):\n",
    "        subset = bootstrapped_subsets[run,:]\n",
    "        binned_subsets[run,:], _ = np.histogram(subset, bins=bins, density=False)\n",
    "    \n",
    "    return binned_subsets"
   ]
  },
  {
   "cell_type": "markdown",
   "id": "9fc339a3-8592-4622-a7bf-bd7641908642",
   "metadata": {
    "tags": []
   },
   "source": [
    "### Calculate the estimated standard deviation overall using this methods"
   ]
  },
  {
   "cell_type": "code",
   "execution_count": 108,
   "id": "dc6e037b-e4f4-4f78-84f4-11165882d599",
   "metadata": {},
   "outputs": [],
   "source": [
    "# Find std for each bootstrapped subset. First find the std for each subset\n",
    "subset_stds1 = np.std(subsets1, axis=1)\n",
    "total_std1 = np.mean(subset_stds1)"
   ]
  },
  {
   "cell_type": "markdown",
   "id": "76b1822f-f604-4433-bccf-59930e825f6b",
   "metadata": {},
   "source": [
    "### Calculate the error bars for each bin."
   ]
  },
  {
   "cell_type": "code",
   "execution_count": 59,
   "id": "2c420b20-621b-4303-bb64-a976b4f68c9b",
   "metadata": {},
   "outputs": [],
   "source": [
    "# To calculate the error bars, compute the standard error of the mean\n",
    "subset"
   ]
  },
  {
   "cell_type": "markdown",
   "id": "ff5d32a1-baf9-4001-967d-2d28f9834c51",
   "metadata": {},
   "source": [
    "### Plot the average histogram with error bars"
   ]
  },
  {
   "cell_type": "code",
   "execution_count": null,
   "id": "e93251ca-28b4-41a7-b4c9-5a5ae4d12a37",
   "metadata": {},
   "outputs": [],
   "source": [
    "plt.scatter(bins[:-1], means1, color='k')\n",
    "plt.errorbar(bins[:-1],means1, color='k', yerr=stds1, elinewidth=1, ecolor='teal', capsize=5) \n",
    "plt.title('Error bar estimation: bootstrapping by sampling random halves')\n",
    "plt.xlabel('x label')\n",
    "plt.ylabel('y label')\n",
    "plt.text(-1.8,9.2,f'sigma = {total_std1:.3f}', verticalalignment='top',bbox=dict(facecolor='whitesmoke', edgecolor='k', boxstyle='round,pad=.4'))\n",
    "\n",
    "plt.show()"
   ]
  },
  {
   "cell_type": "markdown",
   "id": "4e279af6-93bd-4f4a-bc92-0416cb121a6d",
   "metadata": {
    "tags": []
   },
   "source": [
    "## b) In the second method, do bootstrapping by resampling (e.g., 1000 times) with replacement from the full dataset."
   ]
  },
  {
   "cell_type": "markdown",
   "id": "f5be00b9-163c-48a6-b263-82fb92cc2ed8",
   "metadata": {},
   "source": [
    "### Take random subsets"
   ]
  },
  {
   "cell_type": "code",
   "execution_count": null,
   "id": "26abc84a-6f98-4e26-a3a1-8cea476aad3f",
   "metadata": {},
   "outputs": [],
   "source": [
    "subsetSize = int(data.size/2)\n",
    "permutations = 1000\n",
    "\n",
    "def bootstrap_with_replacement(data, subsetSize, permutations):\n",
    "    '''\n",
    "    Takes a random subset of the data by drawing each element individually with replacement.\n",
    "    Input: data, subsetSize = size of the random subset, permutations = number of samples to draw.\n",
    "    Output: bootstrapped subsets (with replacement)\n",
    "    '''\n",
    "    subsets = np.zeros((permutations, subsetSize)) # store sample for each permutation; may delete later\n",
    "    for run in range(permutations):\n",
    "        for element in range(subsetSize):\n",
    "            subsets[run, element] = np.random.choice(data)\n",
    "    return subsets\n",
    "\n",
    "subsets2 = bootstrap_with_replacement(data, subsetSize, permutations)"
   ]
  },
  {
   "cell_type": "markdown",
   "id": "5496be14-a2ab-4fd7-8ac1-235e37cce337",
   "metadata": {
    "tags": []
   },
   "source": [
    "### Bin the data"
   ]
  },
  {
   "cell_type": "code",
   "execution_count": null,
   "id": "3d94d514-d464-4329-9a27-5c8d7efec6d1",
   "metadata": {},
   "outputs": [],
   "source": [
    "binned_subsets2 = bin_subsets(subsets2, bins)"
   ]
  },
  {
   "cell_type": "markdown",
   "id": "b3627eb5-101f-406e-aa6e-fee1d660cc06",
   "metadata": {
    "tags": []
   },
   "source": [
    "### Calculate the mean value for each bin, the estimated standard deviation overall, and the error bars (std) for each bin."
   ]
  },
  {
   "cell_type": "code",
   "execution_count": null,
   "id": "1e479c1c-268a-4799-85d7-ad1daf65e1d1",
   "metadata": {},
   "outputs": [],
   "source": [
    "# Find std for each bootstrapped subset\n",
    "subset_stds2 = np.zeros(permutations)\n",
    "for subset in range(permutations):\n",
    "    subset_stds2[subset] = np.std(subsets2[subset])\n",
    "\n",
    "total_std2 = np.mean(subset_stds2)\n",
    "\n",
    "means2 = np.mean(binned_subsets2, axis=0)\n",
    "stds2 = np.std(binned_subsets2, axis=0)"
   ]
  },
  {
   "cell_type": "markdown",
   "id": "70f068dd-38a7-4af0-88f9-23c5a40e8850",
   "metadata": {},
   "source": [
    "### Plot the average histogram with error bars"
   ]
  },
  {
   "cell_type": "code",
   "execution_count": null,
   "id": "3f05f218-4d94-4508-8a01-2e9ed9669c35",
   "metadata": {},
   "outputs": [],
   "source": [
    "plt.scatter(bins[:-1], means2, color='k')\n",
    "plt.errorbar(bins[:-1],means2, color='k', yerr=stds2, elinewidth=1, ecolor='teal', capsize=5) \n",
    "plt.title('Error bar estimation: bootstrapping with replacement')\n",
    "plt.xlabel('x label')\n",
    "plt.ylabel('y label')\n",
    "plt.text(-1.8,9.2,f'sigma = {total_std2:.3f}', verticalalignment='top',bbox=dict(facecolor='whitesmoke', edgecolor='k', boxstyle='round,pad=.4'))\n",
    "\n",
    "plt.show()"
   ]
  },
  {
   "cell_type": "markdown",
   "id": "034cc078-4c63-4e33-8097-3cb669419036",
   "metadata": {},
   "source": [
    "## In the third method, apply the Jackknife estimate. Compare the obtained error bar estimates."
   ]
  },
  {
   "cell_type": "markdown",
   "id": "09ef6a4c-ce92-45aa-a245-62f20fddf946",
   "metadata": {},
   "source": [
    "Jackknife: leave each point out in turn"
   ]
  },
  {
   "cell_type": "markdown",
   "id": "b0c19b63-94d9-4570-8615-55a996981086",
   "metadata": {},
   "source": [
    "### Take random subsets"
   ]
  },
  {
   "cell_type": "code",
   "execution_count": null,
   "id": "1625be43-8ec5-4608-a2cc-9bb20611c044",
   "metadata": {},
   "outputs": [],
   "source": [
    "somedata = np.array([1,2,3,4])\n",
    "\n",
    "newdata = np.delete(somedata, 0)\n",
    "\n",
    "print(somedata)\n",
    "\n",
    "newdata"
   ]
  },
  {
   "cell_type": "code",
   "execution_count": null,
   "id": "331348e4-3651-4e15-bcfd-4c29ac05b243",
   "metadata": {},
   "outputs": [],
   "source": [
    "subsetSize = data.size-1\n",
    "permutations = 1000\n",
    "\n",
    "def jackknife(data, subsetSize, permutations):\n",
    "    '''\n",
    "    Takes a random subset of the data by systematically excluding each element.\n",
    "    '''\n",
    "    subsets = np.zeros((permutations, subsetSize))\n",
    "    for element in range(subsetSize):\n",
    "        subsets[element] = np.delete(data, element)\n",
    "    return subsets\n",
    "\n",
    "subsets3 = jackknife(data,subsetSize, permutations)\n",
    "    \n",
    "print(subsets3.size)"
   ]
  },
  {
   "cell_type": "code",
   "execution_count": null,
   "id": "a2f49e50-8f23-4173-bb58-f6a566720a36",
   "metadata": {},
   "outputs": [],
   "source": [
    "subsetSize = int(data.size/2)\n",
    "permutations = 1000\n",
    "\n",
    "def bootstrap_with_replacement(data, subsetSize, permutations):\n",
    "    '''\n",
    "    Takes a random subset of the data by drawing each element individually with replacement.\n",
    "    Input: data, subsetSize = size of the random subset, permutations = number of samples to draw.\n",
    "    Output: bootstrapped subsets (with replacement)\n",
    "    '''\n",
    "    subsets = np.zeros((permutations, subsetSize)) # store sample for each permutation; may delete later\n",
    "    for run in range(permutations):\n",
    "        for element in range(subsetSize):\n",
    "            subsets[run, element] = np.random.choice(data)\n",
    "    return subsets\n",
    "\n",
    "subsets2 = bootstrap_with_replacement(data, subsetSize, permutations)"
   ]
  },
  {
   "cell_type": "markdown",
   "id": "18237dd4-8c11-44f2-ba38-9db2bb6728e8",
   "metadata": {},
   "source": [
    "### Bin the data"
   ]
  },
  {
   "cell_type": "code",
   "execution_count": null,
   "id": "d135f4b0-5cca-4056-9d5b-a74832a20481",
   "metadata": {},
   "outputs": [],
   "source": []
  },
  {
   "cell_type": "code",
   "execution_count": null,
   "id": "dddabcd2-7390-4a96-b841-840360f582c3",
   "metadata": {},
   "outputs": [],
   "source": []
  },
  {
   "cell_type": "code",
   "execution_count": null,
   "id": "224a732a-cd93-40ee-9376-da4b78eb79b5",
   "metadata": {},
   "outputs": [],
   "source": []
  }
 ],
 "metadata": {
  "kernelspec": {
   "display_name": "Python 3 (ipykernel)",
   "language": "python",
   "name": "python3"
  },
  "language_info": {
   "codemirror_mode": {
    "name": "ipython",
    "version": 3
   },
   "file_extension": ".py",
   "mimetype": "text/x-python",
   "name": "python",
   "nbconvert_exporter": "python",
   "pygments_lexer": "ipython3",
   "version": "3.9.16"
  }
 },
 "nbformat": 4,
 "nbformat_minor": 5
}
