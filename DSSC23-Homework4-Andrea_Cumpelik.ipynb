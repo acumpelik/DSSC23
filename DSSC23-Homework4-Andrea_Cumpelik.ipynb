{
 "cells": [
  {
   "cell_type": "markdown",
   "id": "3ec70ac4-afac-4c76-ad94-5c2149dd71c0",
   "metadata": {},
   "source": [
    "Homework 4. Use your detection of spikes on background-subtracted trace1\n",
    "data from previous homework to define a new vector z, of the same length as\n",
    "\n",
    "trace1, which only contains zeros or ones: ones should indicate downward thresh-\n",
    "old voltage crossings in trace1, with threshold you selected for spike detection,\n",
    "\n",
    "and other time bins should be zero; in other words, z should have a one whenever\n",
    "a spike occurred in the original voltage trace; P\n",
    "\n",
    "t zt should be the total number\n",
    "of detected spikes in trace1. Note: z should only indicate threshold crossings,\n",
    "i.e., cases where voltage was above the threshold in the previous timebin and\n",
    "is below the threshold in the next timebin. Let’s now do the following: (i) take\n",
    "many contiguous chunks of z of length 500, 750, 1000, 2500, 5000,..., 100000 time\n",
    "bins, and on each chunk estimate the “spike rate”, as the number of spikes in\n",
    "that chunk divided by the length of that chunk; (ii) estimate the error in the\n",
    "spike rate by computing the SD over chunks of the same length, as in the classic\n",
    "bootstrap; (iii) plot this error as a function of the chunk length, on the semilogx\n",
    "plot. Does the error bar decrease with the chunk length as you would expect?\n",
    "(iv) To get a better intuition, compare this plot of spike rate error bar vs chunk\n",
    "length for the vector z whose elements you first randomly permuted to break all\n",
    "temporal correlations. Check that in this permuted control, the spike rate error\n",
    "bar decrease as (chunk length)\n",
    "\n",
    "1/2. If you see a deviation from that behavior\n",
    "of the spike rate error bar for the original z, what could be the source of such\n",
    "deviations?"
   ]
  },
  {
   "cell_type": "code",
   "execution_count": null,
   "id": "5cdd9a23-668e-45ee-9238-269a79996520",
   "metadata": {},
   "outputs": [],
   "source": []
  }
 ],
 "metadata": {
  "kernelspec": {
   "display_name": "Python 3 (ipykernel)",
   "language": "python",
   "name": "python3"
  },
  "language_info": {
   "codemirror_mode": {
    "name": "ipython",
    "version": 3
   },
   "file_extension": ".py",
   "mimetype": "text/x-python",
   "name": "python",
   "nbconvert_exporter": "python",
   "pygments_lexer": "ipython3",
   "version": "3.9.16"
  }
 },
 "nbformat": 4,
 "nbformat_minor": 5
}
