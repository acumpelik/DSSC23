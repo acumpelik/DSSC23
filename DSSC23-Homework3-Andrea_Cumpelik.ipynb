{
 "cells": [
  {
   "cell_type": "markdown",
   "id": "a601cc9c-b8f9-4655-b4ca-fa3a78d6f3de",
   "metadata": {},
   "source": [
    "# Homework 3"
   ]
  },
  {
   "cell_type": "markdown",
   "id": "43f9b784-7400-48a6-b237-a2f5e25f6e3a",
   "metadata": {},
   "source": [
    "Try three different bootstrapping methods for estimating the\n",
    "error bar on a statistic for a synthetic data that is IID by construction. For your\n",
    "data set, draw a hundred samples from a normal distribution with zero mean and\n",
    "unit variance. On this dataset, estimate the standard deviation (ground truth\n",
    "value of which is unity), and its error bar. In the first method for error bar\n",
    "estimation, do bootstrapping by selecting random halves of the data (e.g., 1000\n",
    "random splits). In the second method, do bootstrapping by resampling (e.g.,\n",
    "1000 times) with replacement from the full dataset. In the third method, apply\n",
    "the Jackknife estimate. Compare the obtained error bar estimates."
   ]
  },
  {
   "cell_type": "code",
   "execution_count": 1,
   "id": "2fedf82c-4367-43a8-b229-cf3e48070793",
   "metadata": {},
   "outputs": [],
   "source": [
    "import numpy as np\n",
    "import matplotlib.pyplot as plt\n",
    "import random"
   ]
  },
  {
   "cell_type": "markdown",
   "id": "e3aa78f8-b668-4f22-acd9-745ba5a76c20",
   "metadata": {
    "tags": []
   },
   "source": [
    "# 1) Generate the data and estimate its standard deviation\n",
    "For your\n",
    "data set, draw a hundred samples from a normal distribution with zero mean and\n",
    "unit variance. On this dataset, estimate the standard deviation (ground truth\n",
    "value of which is unity), and its error bar."
   ]
  },
  {
   "cell_type": "markdown",
   "id": "742c9e81-2a85-41d1-b053-e29c2bebaaa6",
   "metadata": {
    "jp-MarkdownHeadingCollapsed": true,
    "tags": []
   },
   "source": [
    "## Own Gaussian implementation"
   ]
  },
  {
   "cell_type": "code",
   "execution_count": null,
   "id": "6c09f6b2-b3f1-4c6d-8bb9-f7fde2835ca2",
   "metadata": {},
   "outputs": [],
   "source": [
    "N = 1000\n",
    "mu  = 0\n",
    "sigma = 1\n",
    "xrange = [-5,5]\n",
    "x = np.linspace(xrange[0]*sigma,xrange[1]*sigma,N) # draw from a uniform distribution\n",
    "\n",
    "def gaussian(x, mu, sigma):\n",
    "    \"\"\"\n",
    "    Parameters\n",
    "    ----------\n",
    "    x: an array of points at which to evaluate the Gaussian function\n",
    "    mu : mean\n",
    "    sigma : standard deviation\n",
    "\n",
    "    Returns\n",
    "    -------\n",
    "    p : probability\n",
    "    \"\"\"\n",
    "    p = np.zeros(N)\n",
    "    p = (1/np.sqrt(2*np.pi*sigma**2)) * np.e**(-(1/2)*(x-mu)**2 / sigma**2)\n",
    "    return p"
   ]
  },
  {
   "cell_type": "code",
   "execution_count": null,
   "id": "4bae06c8-bf50-4fdc-b85e-d15094d6ccf6",
   "metadata": {},
   "outputs": [],
   "source": [
    "p = gaussian(x, 0,1)"
   ]
  },
  {
   "cell_type": "code",
   "execution_count": null,
   "id": "713c5e83-62e5-4203-a909-9d3d53372fc9",
   "metadata": {},
   "outputs": [],
   "source": [
    "plt.plot(x,p)\n",
    "plt.show()"
   ]
  },
  {
   "cell_type": "code",
   "execution_count": null,
   "id": "d3ac1ff8-8bab-4c25-b648-0adfcf7ac389",
   "metadata": {},
   "outputs": [],
   "source": [
    "plt.hist(p, bins=10)\n",
    "plt.show()"
   ]
  },
  {
   "cell_type": "code",
   "execution_count": null,
   "id": "e8dd07ed-bd75-410d-bde7-9a1a89ed41f4",
   "metadata": {},
   "outputs": [],
   "source": [
    "n = gaussian(0,0,1)"
   ]
  },
  {
   "cell_type": "code",
   "execution_count": null,
   "id": "96e4948d-5f2b-4d23-a4cc-ad7dc4924f76",
   "metadata": {},
   "outputs": [],
   "source": [
    "n"
   ]
  },
  {
   "cell_type": "markdown",
   "id": "374aac02-f082-44eb-a460-255921eb30ec",
   "metadata": {},
   "source": [
    "## NumPy libraries"
   ]
  },
  {
   "cell_type": "code",
   "execution_count": 131,
   "id": "fc0aef91-b2e8-44eb-bdf5-d518c69a26e4",
   "metadata": {},
   "outputs": [
    {
     "data": {
      "image/png": "[encoded data removed]",
      "text/plain": [
       "<Figure size 640x480 with 1 Axes>"
      ]
     },
     "metadata": {},
     "output_type": "display_data"
    }
   ],
   "source": [
    "# Generate some data, set a fixed seed\n",
    "rng = np.random.default_rng(seed=64)\n",
    "data = rng.normal(loc=0, scale=1, size=100)\n",
    "\n",
    "# Find the STD estimator\n",
    "stdEstimator = np.std(data)\n",
    "\n",
    "# Plot the data on a histogram\n",
    "numbins=20\n",
    "bins = np.linspace(data.min(), data.max(), numbins)\n",
    "counts, _ = np.histogram(data, bins=bins, density=False)\n",
    "\n",
    "plt.hist(data, bins=bins)\n",
    "plt.xlim(-3.5,3.5)\n",
    "plt.title('100 samples drawn from a normal distribution')\n",
    "plt.text(-3,13,f'sigma = {stdEstimator:.3f}', verticalalignment='top', bbox=dict(facecolor='whitesmoke', edgecolor='k', boxstyle='round,pad=.4'))\n",
    "plt.show()"
   ]
  },
  {
   "cell_type": "markdown",
   "id": "0c7a59b3-5528-49ae-90dc-46e950ebfb89",
   "metadata": {},
   "source": [
    "# 2) Estimate the error bar on this estimator using different methods\n",
    "On this dataset, estimate the standard deviation (ground truth\n",
    "value of which is unity), and its error bar.\n",
    "## a) In the first method for error bar estimation, do bootstrapping by selecting random halves of the data (e.g., 1000 random splits)."
   ]
  },
  {
   "cell_type": "markdown",
   "id": "324d56e1-0fef-491e-8870-38be8802528a",
   "metadata": {},
   "source": [
    "### Sample random subsets: random halves"
   ]
  },
  {
   "cell_type": "code",
   "execution_count": 3,
   "id": "db421cbe-a7ad-451e-8298-8e7168696efd",
   "metadata": {},
   "outputs": [],
   "source": [
    "subsetSize = int(len(data)/2)\n",
    "permutations = 1000\n",
    "\n",
    "def bootstrap_random_halves(data, subsetSize, permutations):\n",
    "    '''\n",
    "    Splits the data  into random halves (not preserving continuity, assuming IID).\n",
    "    Input: data = 1D array, subsetSize = size of the random subset, permutations = number of samples to draw.\n",
    "    Output: bootstrapped subsets (random halves).\n",
    "    '''\n",
    "    subsets = np.zeros((permutations, subsetSize))\n",
    "    for run in range(permutations):\n",
    "        # randomly select half the data points (k = length of subset) and store in an array where the rows are subsets and the columns are runs\n",
    "        subsets[run,:] = random.choices(data, k=subsetSize)\n",
    "    return subsets"
   ]
  },
  {
   "cell_type": "code",
   "execution_count": 48,
   "id": "1eaa4f45-ec81-48e1-bbb1-b6feec8e21bd",
   "metadata": {},
   "outputs": [],
   "source": [
    "subsets1 = bootstrap_random_halves(data, subsetSize, permutations)"
   ]
  },
  {
   "cell_type": "markdown",
   "id": "24e63bed-73e4-47d0-bb4f-e21dbcde6102",
   "metadata": {
    "jp-MarkdownHeadingCollapsed": true,
    "tags": []
   },
   "source": [
    "### Plot one subset as a sanity check"
   ]
  },
  {
   "cell_type": "code",
   "execution_count": 114,
   "id": "3279f649-5f77-4a8e-9833-990ad3cf0fd7",
   "metadata": {},
   "outputs": [
    {
     "data": {
      "image/png": "[encoded data removed]",
      "text/plain": [
       "<Figure size 640x480 with 1 Axes>"
      ]
     },
     "metadata": {},
     "output_type": "display_data"
    }
   ],
   "source": [
    "plt.hist(subsets1[0], bins[:-1])\n",
    "plt.title('Example boostrapped subset (random halves)')\n",
    "plt.xlim(-3.5,3.5)\n",
    "plt.show()"
   ]
  },
  {
   "cell_type": "markdown",
   "id": "e8c8f27c-6b64-45c0-81ea-425612abd992",
   "metadata": {
    "tags": []
   },
   "source": [
    "### Find the error bar for this bootstrapping method"
   ]
  },
  {
   "cell_type": "code",
   "execution_count": 128,
   "id": "dc6e037b-e4f4-4f78-84f4-11165882d599",
   "metadata": {},
   "outputs": [
    {
     "name": "stdout",
     "output_type": "stream",
     "text": [
      "The error bar on the std estimate for this method is: 0.099\n"
     ]
    }
   ],
   "source": [
    "# First find the std for each subset\n",
    "subset_stds1 = np.std(subsets1, axis=1)\n",
    "# To get the error bar, take the std of these std estimates\n",
    "std_errorbar1 = np.std(subset_stds1)\n",
    "\n",
    "print(f'The error bar on the std estimate for this method is: {std_errorbar1:.3f}')"
   ]
  },
  {
   "cell_type": "markdown",
   "id": "4e279af6-93bd-4f4a-bc92-0416cb121a6d",
   "metadata": {
    "tags": []
   },
   "source": [
    "## b) In the second method, do bootstrapping by resampling (e.g., 1000 times) with replacement from the full dataset."
   ]
  },
  {
   "cell_type": "markdown",
   "id": "f5be00b9-163c-48a6-b263-82fb92cc2ed8",
   "metadata": {},
   "source": [
    "### Sample random subsets: bootstrap with replacement"
   ]
  },
  {
   "cell_type": "code",
   "execution_count": 134,
   "id": "26abc84a-6f98-4e26-a3a1-8cea476aad3f",
   "metadata": {},
   "outputs": [],
   "source": [
    "subsetSize = int(data.size/2)\n",
    "permutations = 1000\n",
    "\n",
    "def bootstrap_with_replacement(data, subsetSize, permutations):\n",
    "    '''\n",
    "    Takes a random subset of the data by drawing each element individually with replacement.\n",
    "    Input: data, subsetSize = size of the random subset, permutations = number of samples to draw.\n",
    "    Output: bootstrapped subsets (with replacement)\n",
    "    '''\n",
    "    subsets = np.zeros((permutations, subsetSize)) # store sample for each permutation; may delete later\n",
    "    for run in range(permutations):\n",
    "        for element in range(subsetSize):\n",
    "            subsets[run, element] = np.random.choice(data, replace=True)\n",
    "    return subsets\n",
    "\n",
    "subsets2 = bootstrap_with_replacement(data, subsetSize, permutations)"
   ]
  },
  {
   "cell_type": "markdown",
   "id": "226af9b6-b208-4257-bd80-76f7e1331cea",
   "metadata": {
    "tags": []
   },
   "source": [
    "### Find the error bar"
   ]
  },
  {
   "cell_type": "code",
   "execution_count": 136,
   "id": "4cca9b50-5394-4316-9bc4-9f999fac07ec",
   "metadata": {},
   "outputs": [
    {
     "name": "stdout",
     "output_type": "stream",
     "text": [
      "The error bar on the std estimate for this method is: 0.098\n"
     ]
    }
   ],
   "source": [
    "# First find the std for each subset\n",
    "subset_stds2 = np.std(subsets2, axis=1)\n",
    "# To get the error bar, take the std of these std estimates\n",
    "std_errorbar2 = np.std(subset_stds2)\n",
    "\n",
    "print(f'The error bar on the std estimate for this method is: {std_errorbar2:.3f}')"
   ]
  },
  {
   "cell_type": "code",
   "execution_count": null,
   "id": "3d94d514-d464-4329-9a27-5c8d7efec6d1",
   "metadata": {},
   "outputs": [],
   "source": [
    "binned_subsets2 = bin_subsets(subsets2, bins)"
   ]
  },
  {
   "cell_type": "markdown",
   "id": "034cc078-4c63-4e33-8097-3cb669419036",
   "metadata": {},
   "source": [
    "## c) In the third method, apply the Jackknife estimate."
   ]
  },
  {
   "cell_type": "markdown",
   "id": "b0c19b63-94d9-4570-8615-55a996981086",
   "metadata": {},
   "source": [
    "### Take random subsets: Jackknife (leave each point out in turn)"
   ]
  },
  {
   "cell_type": "code",
   "execution_count": 168,
   "id": "331348e4-3651-4e15-bcfd-4c29ac05b243",
   "metadata": {},
   "outputs": [],
   "source": [
    "subsetSize = data.size-1 # each subset will be the number of elements in our original dataset minus the one we leave out\n",
    "\n",
    "def jackknife(data, subsetSize):\n",
    "    '''\n",
    "    Takes a random subset of the data by systematically excluding each element. The number of permutations is given by the size of the dataset.\n",
    "    '''\n",
    "    subsets = np.zeros((subsetSize+1, subsetSize)) # we want to loop through all the elements, so adding back 1 to the subset size\n",
    "    for element in range(subsetSize+1):\n",
    "        jackknifed_data = np.delete(data, element)\n",
    "        subsets[element,:] = jackknifed_data\n",
    "    return subsets\n",
    "\n",
    "subsets3 = jackknife(data,subsetSize)"
   ]
  },
  {
   "cell_type": "markdown",
   "id": "62824db4-1b76-459f-8fa4-07e42e7b840c",
   "metadata": {
    "tags": []
   },
   "source": [
    "### Find the error bar for this bootstrapping method"
   ]
  },
  {
   "cell_type": "code",
   "execution_count": 171,
   "id": "224a732a-cd93-40ee-9376-da4b78eb79b5",
   "metadata": {
    "tags": []
   },
   "outputs": [
    {
     "name": "stdout",
     "output_type": "stream",
     "text": [
      "The error bar on the std estimate for this method is: 0.007\n"
     ]
    }
   ],
   "source": [
    "# First find the std for each subset\n",
    "subset_stds3 = np.std(subsets3, axis=1)\n",
    "# To get the error bar, take the std of these std estimates\n",
    "std_errorbar3 = np.std(subset_stds3)\n",
    "\n",
    "print(f'The error bar on the std estimate for this method is: {std_errorbar3:.3f}')"
   ]
  },
  {
   "cell_type": "markdown",
   "id": "37b087e5-dad6-4a62-a6f2-1dac8224e8fe",
   "metadata": {
    "tags": []
   },
   "source": [
    "# Compare the obtained error bar estimates."
   ]
  },
  {
   "cell_type": "code",
   "execution_count": 177,
   "id": "c4ad36ab-6d01-434f-9d69-d18ee8350233",
   "metadata": {},
   "outputs": [],
   "source": [
    "plotEst = 3*[stdEstimator]\n",
    "errorBars = [std_errorbar1, std_errorbar2, std_errorbar3]"
   ]
  },
  {
   "cell_type": "code",
   "execution_count": 178,
   "id": "13826e21-0d3e-4d7d-a33c-d52208b44868",
   "metadata": {},
   "outputs": [
    {
     "data": {
      "text/plain": [
       "[0.09888622756019788, 0.09826896020849214, 0.007389080232461994]"
      ]
     },
     "execution_count": 178,
     "metadata": {},
     "output_type": "execute_result"
    }
   ],
   "source": [
    "plotEst\n",
    "errorBars"
   ]
  },
  {
   "cell_type": "code",
   "execution_count": 191,
   "id": "4df670e9-0a0e-4657-8ca6-5d37b88c2713",
   "metadata": {},
   "outputs": [
    {
     "data": {
      "image/png": "[encoded data removed]",
      "text/plain": [
       "<Figure size 640x480 with 1 Axes>"
      ]
     },
     "metadata": {},
     "output_type": "display_data"
    }
   ],
   "source": [
    "plt.bar(['bstrp random halves','bstrp w/ replacement','jackknife'], plotEst, yerr=errorBars, capsize=6)\n",
    "plt.show()"
   ]
  }
 ],
 "metadata": {
  "kernelspec": {
   "display_name": "Python 3 (ipykernel)",
   "language": "python",
   "name": "python3"
  },
  "language_info": {
   "codemirror_mode": {
    "name": "ipython",
    "version": 3
   },
   "file_extension": ".py",
   "mimetype": "text/x-python",
   "name": "python",
   "nbconvert_exporter": "python",
   "pygments_lexer": "ipython3",
   "version": "3.9.16"
  }
 },
 "nbformat": 4,
 "nbformat_minor": 5
}
