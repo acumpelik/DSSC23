{
 "cells": [
  {
   "cell_type": "markdown",
   "id": "51c08b38-de72-42cc-833b-43f0f3b0943b",
   "metadata": {},
   "source": [
    "Homework 6. Compute the pairwise correlation function of log-intensity in\n",
    "the Ruderman natural images dataset, and plot it for the range from 1 to 100\n",
    "pixels. Start by first estimating a 1D correlation function that is analogous to the\n",
    "one in Fig 23: the horizontal axis should be separation (in pixels) along x-image\n",
    "direction at a fixed y-image direction, and you can average over di↵erent random\n",
    "choices of y. Estimate error bars on this correlation function (and argue briefly\n",
    "why your method of assessing errors makes sense).\n",
    "\n",
    "Since the images are two-dimensional, think about generalizing your 1D corre-\n",
    "lation function construction from above to two dimensions. A full correlation\n",
    "\n",
    "function should depend on 2 variables, i.e., on separation in x and separation in\n",
    "y coordinates of the image. Plot such 2D correlation function (you do not need\n",
    "to estimate its error bars), and by inspecting it, argue whether natural images\n",
    "can be isotropic (that is, have statistics that are independent of the direction in\n",
    "the image plane)? Would you expect isotropy in this image set, or in general,\n",
    "in natural images? Assuming isotropy, the correlation should be a function of\n",
    "one variable only (instead of 2 dimensions), that is, of the Euclidean distance\n",
    "between the two points in the image independent of direction; this would be a\n",
    "large simplification in the statistical structure of natural images.\n",
    "Is there a characteristic spatial scale in the correlation functions you estimated\n",
    "from natural images? Do you expect there should be one (why or why not)?"
   ]
  },
  {
   "cell_type": "markdown",
   "id": "11207c7b-3b69-430a-a868-c4884a598708",
   "metadata": {},
   "source": [
    "y = mean-subtracted log-luminance\n",
    "estimate the esponent on the tails\n",
    "\n",
    "\n",
    "mean luminance -> take the log(mean luminance), subtract log luminance for image\n",
    "\n",
    "--1) log of all things, 2) subtract the mean-- -> don't do this; follow the camption in the notes"
   ]
  },
  {
   "cell_type": "code",
   "execution_count": null,
   "id": "4e114c90-f6ec-4a66-b71f-87be727cf729",
   "metadata": {},
   "outputs": [],
   "source": []
  },
  {
   "cell_type": "markdown",
   "id": "e62e23cb-6a5e-446d-9798-f02cd383ce90",
   "metadata": {},
   "source": [
    "estimate the pdf on each image: error is std on ??.\n",
    "same binning is crucial!"
   ]
  }
 ],
 "metadata": {
  "kernelspec": {
   "display_name": "Python 3 (ipykernel)",
   "language": "python",
   "name": "python3"
  },
  "language_info": {
   "codemirror_mode": {
    "name": "ipython",
    "version": 3
   },
   "file_extension": ".py",
   "mimetype": "text/x-python",
   "name": "python",
   "nbconvert_exporter": "python",
   "pygments_lexer": "ipython3",
   "version": "3.9.16"
  }
 },
 "nbformat": 4,
 "nbformat_minor": 5
}
